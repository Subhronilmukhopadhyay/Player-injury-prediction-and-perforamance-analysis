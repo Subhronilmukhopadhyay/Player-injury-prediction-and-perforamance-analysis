{
 "cells": [
  {
   "cell_type": "markdown",
   "metadata": {},
   "source": [
    "Data Preprocessing"
   ]
  },
  {
   "cell_type": "code",
   "execution_count": 1,
   "metadata": {},
   "outputs": [],
   "source": [
    "import numpy as np\n",
    "import pandas as pd\n",
    "import matplotlib.pyplot as plt  \n",
    "import tensorflow as tf"
   ]
  },
  {
   "cell_type": "code",
   "execution_count": 2,
   "metadata": {},
   "outputs": [
    {
     "name": "stdout",
     "output_type": "stream",
     "text": [
      "Index(['PLAYER_ID', 'PLAYER_NAME', 'SEASON', 'SEASON_NUM', 'AGE',\n",
      "       'PLAYER_HEIGHT_INCHES', 'PLAYER_WEIGHT', 'GP', 'MIN', 'USG_PCT', 'PACE',\n",
      "       'POSS', 'FGA_PG', 'DRIVES', 'DRIVE_FGA', 'DRIVE_PASSES', 'DIST_MILES',\n",
      "       'AVG_SPEED', 'PULL_UP_FGA', 'PULL_UP_FG3A', 'TOUCHES',\n",
      "       'FRONT_CT_TOUCHES', 'AVG_SEC_PER_TOUCH', 'AVG_DRIB_PER_TOUCH',\n",
      "       'ELBOW_TOUCHES', 'POST_TOUCHES', 'PAINT_TOUCHES', 'TEAM', 'INJURED ON',\n",
      "       'RETURNED', 'DAYS MISSED', 'INJURED_TYPE'],\n",
      "      dtype='object')\n"
     ]
    }
   ],
   "source": [
    "dataset = pd.read_csv(\"merged.csv\")\n",
    "print(dataset.columns)"
   ]
  },
  {
   "cell_type": "markdown",
   "metadata": {},
   "source": [
    "Making a dependent variable"
   ]
  },
  {
   "cell_type": "code",
   "execution_count": 3,
   "metadata": {},
   "outputs": [],
   "source": [
    "list1 = []\n",
    "for i in range(len(dataset)):\n",
    "    list1.append(0)\n",
    "    if(dataset['DAYS MISSED'][i] >0):\n",
    "        list1[i]=1\n",
    "    else:\n",
    "        list1[i]=0\n",
    "dataset['injured check'] = list1"
   ]
  },
  {
   "cell_type": "code",
   "execution_count": 4,
   "metadata": {},
   "outputs": [
    {
     "name": "stdout",
     "output_type": "stream",
     "text": [
      "[2.2500e+01 2.3000e+01 7.6000e+01 2.1000e+02 1.0000e+00 5.3000e+00\n",
      " 1.4300e-01 1.0481e+02 1.2000e+01 0.0000e+00 0.0000e+00 0.0000e+00\n",
      " 0.0000e+00 4.1000e-01 4.2700e+00 0.0000e+00 0.0000e+00 9.0000e+00\n",
      " 3.0000e+00 2.7200e+00 2.0000e+00 0.0000e+00 0.0000e+00 0.0000e+00]\n"
     ]
    }
   ],
   "source": [
    "X = dataset.iloc[:, 3:-6].values\n",
    "X = X.tolist()\n",
    "for i in range(len(X)):\n",
    "    for j in range(len(X[i])):\n",
    "        if(X[i][j] ==' None'):\n",
    "            X[i][j] = 0\n",
    "        if(type(X[i][j]) == str):\n",
    "            X[i][j] = float(X[i][j])\n",
    "X = np.array(X)\n",
    "print(X[14])\n",
    "y = dataset.iloc[:, -1].values"
   ]
  },
  {
   "cell_type": "code",
   "execution_count": 5,
   "metadata": {},
   "outputs": [],
   "source": [
    "from sklearn.model_selection import train_test_split\n",
    "X_train, X_test, y_train, y_test = train_test_split(X, y, test_size =0.2, random_state = 0)"
   ]
  },
  {
   "cell_type": "code",
   "execution_count": 6,
   "metadata": {},
   "outputs": [],
   "source": [
    "from sklearn.preprocessing import StandardScaler\n",
    "sc = StandardScaler()\n",
    "X_train = sc.fit_transform(X_train)\n",
    "X_test = sc.transform(X_test)"
   ]
  },
  {
   "cell_type": "markdown",
   "metadata": {},
   "source": [
    "Using ANN to predict player getting injured or not"
   ]
  },
  {
   "cell_type": "code",
   "execution_count": 7,
   "metadata": {},
   "outputs": [],
   "source": [
    "ann = tf.keras.models.Sequential()\n",
    "ann.add(tf.keras.layers.Dense(units = 8, activation = 'relu'))\n",
    "ann.add(tf.keras.layers.Dense(units = 8, activation = 'relu'))\n",
    "ann.add(tf.keras.layers.Dense(units = 8, activation = 'relu'))"
   ]
  },
  {
   "cell_type": "code",
   "execution_count": 8,
   "metadata": {},
   "outputs": [],
   "source": [
    "ann.add(tf.keras.layers.Dense(units = 1, activation = 'sigmoid'))"
   ]
  },
  {
   "cell_type": "code",
   "execution_count": 9,
   "metadata": {},
   "outputs": [],
   "source": [
    "ann.compile(optimizer= 'adam', loss = 'binary_crossentropy', metrics= ['accuracy'])"
   ]
  },
  {
   "cell_type": "code",
   "execution_count": 10,
   "metadata": {},
   "outputs": [
    {
     "name": "stdout",
     "output_type": "stream",
     "text": [
      "Epoch 1/100\n",
      "140/140 [==============================] - 1s 908us/step - loss: 0.5939 - accuracy: 0.7010\n",
      "Epoch 2/100\n",
      "140/140 [==============================] - 0s 904us/step - loss: 0.4637 - accuracy: 0.7766\n",
      "Epoch 3/100\n",
      "140/140 [==============================] - 0s 944us/step - loss: 0.4522 - accuracy: 0.7790\n",
      "Epoch 4/100\n",
      "140/140 [==============================] - 0s 921us/step - loss: 0.4475 - accuracy: 0.7801\n",
      "Epoch 5/100\n",
      "140/140 [==============================] - 0s 920us/step - loss: 0.4447 - accuracy: 0.7819\n",
      "Epoch 6/100\n",
      "140/140 [==============================] - 0s 943us/step - loss: 0.4424 - accuracy: 0.7840\n",
      "Epoch 7/100\n",
      "140/140 [==============================] - 0s 1ms/step - loss: 0.4403 - accuracy: 0.7813\n",
      "Epoch 8/100\n",
      "140/140 [==============================] - 0s 933us/step - loss: 0.4383 - accuracy: 0.7844\n",
      "Epoch 9/100\n",
      "140/140 [==============================] - 0s 979us/step - loss: 0.4364 - accuracy: 0.7875\n",
      "Epoch 10/100\n",
      "140/140 [==============================] - 0s 1ms/step - loss: 0.4346 - accuracy: 0.7860\n",
      "Epoch 11/100\n",
      "140/140 [==============================] - 0s 949us/step - loss: 0.4334 - accuracy: 0.7900\n",
      "Epoch 12/100\n",
      "140/140 [==============================] - 0s 926us/step - loss: 0.4324 - accuracy: 0.7898\n",
      "Epoch 13/100\n",
      "140/140 [==============================] - 0s 943us/step - loss: 0.4314 - accuracy: 0.7887\n",
      "Epoch 14/100\n",
      "140/140 [==============================] - 0s 960us/step - loss: 0.4297 - accuracy: 0.7898\n",
      "Epoch 15/100\n",
      "140/140 [==============================] - 0s 981us/step - loss: 0.4283 - accuracy: 0.7920\n",
      "Epoch 16/100\n",
      "140/140 [==============================] - 0s 905us/step - loss: 0.4266 - accuracy: 0.7934\n",
      "Epoch 17/100\n",
      "140/140 [==============================] - 0s 942us/step - loss: 0.4256 - accuracy: 0.7952\n",
      "Epoch 18/100\n",
      "140/140 [==============================] - 0s 956us/step - loss: 0.4239 - accuracy: 0.7938\n",
      "Epoch 19/100\n",
      "140/140 [==============================] - 0s 911us/step - loss: 0.4232 - accuracy: 0.7954\n",
      "Epoch 20/100\n",
      "140/140 [==============================] - 0s 903us/step - loss: 0.4218 - accuracy: 0.7945\n",
      "Epoch 21/100\n",
      "140/140 [==============================] - 0s 929us/step - loss: 0.4203 - accuracy: 0.7987\n",
      "Epoch 22/100\n",
      "140/140 [==============================] - 0s 954us/step - loss: 0.4183 - accuracy: 0.7949\n",
      "Epoch 23/100\n",
      "140/140 [==============================] - 0s 987us/step - loss: 0.4187 - accuracy: 0.7958\n",
      "Epoch 24/100\n",
      "140/140 [==============================] - 0s 946us/step - loss: 0.4167 - accuracy: 0.7994\n",
      "Epoch 25/100\n",
      "140/140 [==============================] - 0s 919us/step - loss: 0.4157 - accuracy: 0.7992\n",
      "Epoch 26/100\n",
      "140/140 [==============================] - 0s 991us/step - loss: 0.4156 - accuracy: 0.8043\n",
      "Epoch 27/100\n",
      "140/140 [==============================] - 0s 991us/step - loss: 0.4139 - accuracy: 0.8026\n",
      "Epoch 28/100\n",
      "140/140 [==============================] - 0s 987us/step - loss: 0.4130 - accuracy: 0.8026\n",
      "Epoch 29/100\n",
      "140/140 [==============================] - 0s 1ms/step - loss: 0.4118 - accuracy: 0.8041\n",
      "Epoch 30/100\n",
      "140/140 [==============================] - 0s 1ms/step - loss: 0.4102 - accuracy: 0.8043\n",
      "Epoch 31/100\n",
      "140/140 [==============================] - 0s 1ms/step - loss: 0.4101 - accuracy: 0.8088\n",
      "Epoch 32/100\n",
      "140/140 [==============================] - 0s 1ms/step - loss: 0.4099 - accuracy: 0.8050\n",
      "Epoch 33/100\n",
      "140/140 [==============================] - 0s 1ms/step - loss: 0.4079 - accuracy: 0.8073\n",
      "Epoch 34/100\n",
      "140/140 [==============================] - 0s 1ms/step - loss: 0.4085 - accuracy: 0.8059\n",
      "Epoch 35/100\n",
      "140/140 [==============================] - 0s 1ms/step - loss: 0.4071 - accuracy: 0.8066\n",
      "Epoch 36/100\n",
      "140/140 [==============================] - 0s 1ms/step - loss: 0.4061 - accuracy: 0.8052\n",
      "Epoch 37/100\n",
      "140/140 [==============================] - 0s 1ms/step - loss: 0.4051 - accuracy: 0.8064\n",
      "Epoch 38/100\n",
      "140/140 [==============================] - 0s 1ms/step - loss: 0.4043 - accuracy: 0.8068\n",
      "Epoch 39/100\n",
      "140/140 [==============================] - 0s 1ms/step - loss: 0.4042 - accuracy: 0.8077\n",
      "Epoch 40/100\n",
      "140/140 [==============================] - 0s 1ms/step - loss: 0.4045 - accuracy: 0.8052\n",
      "Epoch 41/100\n",
      "140/140 [==============================] - 0s 1ms/step - loss: 0.4027 - accuracy: 0.8086\n",
      "Epoch 42/100\n",
      "140/140 [==============================] - 0s 1ms/step - loss: 0.4011 - accuracy: 0.8102\n",
      "Epoch 43/100\n",
      "140/140 [==============================] - 0s 1ms/step - loss: 0.4008 - accuracy: 0.8113\n",
      "Epoch 44/100\n",
      "140/140 [==============================] - 0s 1ms/step - loss: 0.4009 - accuracy: 0.8122\n",
      "Epoch 45/100\n",
      "140/140 [==============================] - 0s 1ms/step - loss: 0.4001 - accuracy: 0.8124\n",
      "Epoch 46/100\n",
      "140/140 [==============================] - 0s 1ms/step - loss: 0.4001 - accuracy: 0.8100\n",
      "Epoch 47/100\n",
      "140/140 [==============================] - 0s 1ms/step - loss: 0.3988 - accuracy: 0.8104\n",
      "Epoch 48/100\n",
      "140/140 [==============================] - 0s 1ms/step - loss: 0.3988 - accuracy: 0.8097\n",
      "Epoch 49/100\n",
      "140/140 [==============================] - 0s 1ms/step - loss: 0.3977 - accuracy: 0.8147\n",
      "Epoch 50/100\n",
      "140/140 [==============================] - 0s 1ms/step - loss: 0.3981 - accuracy: 0.8088\n",
      "Epoch 51/100\n",
      "140/140 [==============================] - 0s 1ms/step - loss: 0.3976 - accuracy: 0.8113\n",
      "Epoch 52/100\n",
      "140/140 [==============================] - 0s 1ms/step - loss: 0.3986 - accuracy: 0.8093\n",
      "Epoch 53/100\n",
      "140/140 [==============================] - 0s 1ms/step - loss: 0.3968 - accuracy: 0.8104\n",
      "Epoch 54/100\n",
      "140/140 [==============================] - 0s 1ms/step - loss: 0.3964 - accuracy: 0.8120\n",
      "Epoch 55/100\n",
      "140/140 [==============================] - 0s 1ms/step - loss: 0.3957 - accuracy: 0.8100\n",
      "Epoch 56/100\n",
      "140/140 [==============================] - 0s 1ms/step - loss: 0.3954 - accuracy: 0.8140\n",
      "Epoch 57/100\n",
      "140/140 [==============================] - 0s 1ms/step - loss: 0.3950 - accuracy: 0.8135\n",
      "Epoch 58/100\n",
      "140/140 [==============================] - 0s 1ms/step - loss: 0.3936 - accuracy: 0.8149\n",
      "Epoch 59/100\n",
      "140/140 [==============================] - 0s 1ms/step - loss: 0.3943 - accuracy: 0.8100\n",
      "Epoch 60/100\n",
      "140/140 [==============================] - 0s 1ms/step - loss: 0.3942 - accuracy: 0.8120\n",
      "Epoch 61/100\n",
      "140/140 [==============================] - 0s 1ms/step - loss: 0.3927 - accuracy: 0.8129\n",
      "Epoch 62/100\n",
      "140/140 [==============================] - 0s 1ms/step - loss: 0.3924 - accuracy: 0.8095\n",
      "Epoch 63/100\n",
      "140/140 [==============================] - 0s 1ms/step - loss: 0.3916 - accuracy: 0.8149\n",
      "Epoch 64/100\n",
      "140/140 [==============================] - 0s 1ms/step - loss: 0.3925 - accuracy: 0.8102\n",
      "Epoch 65/100\n",
      "140/140 [==============================] - 0s 1ms/step - loss: 0.3917 - accuracy: 0.8140\n",
      "Epoch 66/100\n",
      "140/140 [==============================] - 0s 1ms/step - loss: 0.3913 - accuracy: 0.8149\n",
      "Epoch 67/100\n",
      "140/140 [==============================] - 0s 1ms/step - loss: 0.3908 - accuracy: 0.8149\n",
      "Epoch 68/100\n",
      "140/140 [==============================] - 0s 1ms/step - loss: 0.3917 - accuracy: 0.8129\n",
      "Epoch 69/100\n",
      "140/140 [==============================] - 0s 1ms/step - loss: 0.3899 - accuracy: 0.8133\n",
      "Epoch 70/100\n",
      "140/140 [==============================] - 0s 1ms/step - loss: 0.3894 - accuracy: 0.8153\n",
      "Epoch 71/100\n",
      "140/140 [==============================] - 0s 1ms/step - loss: 0.3881 - accuracy: 0.8142\n",
      "Epoch 72/100\n",
      "140/140 [==============================] - 0s 970us/step - loss: 0.3902 - accuracy: 0.8153\n",
      "Epoch 73/100\n",
      "140/140 [==============================] - 0s 1ms/step - loss: 0.3883 - accuracy: 0.8142\n",
      "Epoch 74/100\n",
      "140/140 [==============================] - 0s 942us/step - loss: 0.3873 - accuracy: 0.8158\n",
      "Epoch 75/100\n",
      "140/140 [==============================] - 0s 954us/step - loss: 0.3868 - accuracy: 0.8162\n",
      "Epoch 76/100\n",
      "140/140 [==============================] - 0s 929us/step - loss: 0.3875 - accuracy: 0.8147\n",
      "Epoch 77/100\n",
      "140/140 [==============================] - 0s 904us/step - loss: 0.3867 - accuracy: 0.8169\n",
      "Epoch 78/100\n",
      "140/140 [==============================] - 0s 929us/step - loss: 0.3872 - accuracy: 0.8173\n",
      "Epoch 79/100\n",
      "140/140 [==============================] - 0s 916us/step - loss: 0.3872 - accuracy: 0.8173\n",
      "Epoch 80/100\n",
      "140/140 [==============================] - 0s 928us/step - loss: 0.3860 - accuracy: 0.8189\n",
      "Epoch 81/100\n",
      "140/140 [==============================] - 0s 943us/step - loss: 0.3863 - accuracy: 0.8178\n",
      "Epoch 82/100\n",
      "140/140 [==============================] - 0s 913us/step - loss: 0.3859 - accuracy: 0.8171\n",
      "Epoch 83/100\n",
      "140/140 [==============================] - 0s 921us/step - loss: 0.3857 - accuracy: 0.8189\n",
      "Epoch 84/100\n",
      "140/140 [==============================] - 0s 927us/step - loss: 0.3872 - accuracy: 0.8164\n",
      "Epoch 85/100\n",
      "140/140 [==============================] - 0s 927us/step - loss: 0.3854 - accuracy: 0.8164\n",
      "Epoch 86/100\n",
      "140/140 [==============================] - 0s 903us/step - loss: 0.3857 - accuracy: 0.8169\n",
      "Epoch 87/100\n",
      "140/140 [==============================] - 0s 918us/step - loss: 0.3845 - accuracy: 0.8178\n",
      "Epoch 88/100\n",
      "140/140 [==============================] - 0s 918us/step - loss: 0.3832 - accuracy: 0.8153\n",
      "Epoch 89/100\n",
      "140/140 [==============================] - 0s 926us/step - loss: 0.3852 - accuracy: 0.8178\n",
      "Epoch 90/100\n",
      "140/140 [==============================] - 0s 917us/step - loss: 0.3832 - accuracy: 0.8162\n",
      "Epoch 91/100\n",
      "140/140 [==============================] - 0s 924us/step - loss: 0.3837 - accuracy: 0.8178\n",
      "Epoch 92/100\n",
      "140/140 [==============================] - 0s 930us/step - loss: 0.3840 - accuracy: 0.8176\n",
      "Epoch 93/100\n",
      "140/140 [==============================] - 0s 923us/step - loss: 0.3832 - accuracy: 0.8225\n",
      "Epoch 94/100\n",
      "140/140 [==============================] - 0s 912us/step - loss: 0.3837 - accuracy: 0.8173\n",
      "Epoch 95/100\n",
      "140/140 [==============================] - 0s 926us/step - loss: 0.3826 - accuracy: 0.8234\n",
      "Epoch 96/100\n",
      "140/140 [==============================] - 0s 932us/step - loss: 0.3831 - accuracy: 0.8200\n",
      "Epoch 97/100\n",
      "140/140 [==============================] - 0s 943us/step - loss: 0.3830 - accuracy: 0.8189\n",
      "Epoch 98/100\n",
      "140/140 [==============================] - 0s 935us/step - loss: 0.3826 - accuracy: 0.8178\n",
      "Epoch 99/100\n",
      "140/140 [==============================] - 0s 930us/step - loss: 0.3817 - accuracy: 0.8207\n",
      "Epoch 100/100\n",
      "140/140 [==============================] - 0s 918us/step - loss: 0.3823 - accuracy: 0.8185\n"
     ]
    },
    {
     "data": {
      "text/plain": [
       "<keras.src.callbacks.History at 0x25769ebe010>"
      ]
     },
     "execution_count": 10,
     "metadata": {},
     "output_type": "execute_result"
    }
   ],
   "source": [
    "ann.fit(X_train, y_train, batch_size= 32, epochs= 100)"
   ]
  },
  {
   "cell_type": "code",
   "execution_count": 19,
   "metadata": {},
   "outputs": [
    {
     "name": "stdout",
     "output_type": "stream",
     "text": [
      "1/1 [==============================] - 0s 16ms/step\n",
      "[[False]]\n"
     ]
    }
   ],
   "source": [
    "season_num = float(input(\"Numeric representation of the season played by the player:\"))\n",
    "age = int(input(\"Current age of the player:\"))\n",
    "PLAYER_HEIGHT_INCHES = int(input(\"The height of the player in inches:\"))\n",
    "PLAYER_WEIGHT = int(input(\"The weight of the player:\"))\n",
    "GP = int(input(\"the number of games in which the player participated:\"))\n",
    "MIN = float(input(\"Total minutes played by the player:\"))\n",
    "USG_PCT = float(input(\"an estimate of the percentage of team plays used by a player while on the court:\"))\n",
    "pace = float(input(\"The pace of play:\"))\n",
    "poss = int(input(\"the total number of offensive and defensive possessions:\"))\n",
    "FGA_PG = int(input(\"Field Goals Attempted per game:\"))\n",
    "DRIVES= float(input(\"The number of times a player drives towards the basket:\"))\n",
    "DRIVE_FGA =  float(input(\"Field Goals Attempted on drives:\"))\n",
    "DRIVE_PASSES = float(input(\"Passes made during drives:\"))\n",
    "DIST_MILES = float(input(\"Total distance covered by the player in miles:\"))\n",
    "AVG_SPEED = float(input(\"Average speed of the player in miles per hour:\"))\n",
    "PULL_UP_FGA = float(input(\"Field Goals Attempted on pull-up shots:\"))\n",
    "PULL_UP_FG3A = float(input(\"Three-Point Field Goals Attempted on pull-up shots:\"))\n",
    "TOUCHES = float(input(\"The number of times the player touched the ball:\"))\n",
    "FRONT_CT_TOUCHES = float(input(\"Front Court Touches - the number of times the player touched the ball in the frontcourt:\"))\n",
    "AVG_SEC_PER_TOUCH = float(input(\"Average seconds per touch:\"))\n",
    "AVG_DRIB_PER_TOUCH = float(input(\"Average dribbles per touch:\"))\n",
    "ELBOW_TOUCHES = float(input(\"The number of times the player touched the ball in the elbow area:\"))\n",
    "POST_TOUCHES = float(input(\"The number of times the player touched the ball in the post area:\"))\n",
    "PAINT_TOUCHES = float(input(\"The number of times the player touched the ball in the paint area:\"))\n",
    "TEAM = str(input(\"The team for which the player played during the specified season:\"))\n",
    "list2 = [season_num,age,PLAYER_HEIGHT_INCHES,PLAYER_WEIGHT,GP,MIN,USG_PCT,pace,poss,FGA_PG,DRIVES,DRIVE_FGA,DRIVE_PASSES,DIST_MILES,AVG_SPEED,PULL_UP_FGA,PULL_UP_FG3A,TOUCHES,FRONT_CT_TOUCHES,AVG_SEC_PER_TOUCH,AVG_DRIB_PER_TOUCH,ELBOW_TOUCHES,POST_TOUCHES,PAINT_TOUCHES]\n",
    "print(ann.predict((sc.transform([list2])))>0.5)\n",
    "if(prediction > 0.5):\n",
    "    print(\"Player has a high chance of injury\")\n",
    "else:\n",
    "    print(\"Player has low chance of injury\")"
   ]
  },
  {
   "cell_type": "code",
   "execution_count": 12,
   "metadata": {},
   "outputs": [
    {
     "name": "stdout",
     "output_type": "stream",
     "text": [
      " 1/35 [..............................] - ETA: 2s"
     ]
    },
    {
     "name": "stdout",
     "output_type": "stream",
     "text": [
      "35/35 [==============================] - 0s 710us/step\n",
      "[[0 1]\n",
      " [1 0]\n",
      " [0 0]\n",
      " ...\n",
      " [0 0]\n",
      " [0 1]\n",
      " [0 0]]\n"
     ]
    }
   ],
   "source": [
    "y_pred = ann.predict(X_test)\n",
    "y_pred = (y_pred > 0.5)\n",
    "print(np.concatenate((y_pred.reshape(len(y_pred),1), y_test.reshape(len(y_test),1)),1))"
   ]
  },
  {
   "cell_type": "code",
   "execution_count": 13,
   "metadata": {},
   "outputs": [
    {
     "name": "stdout",
     "output_type": "stream",
     "text": [
      "[[827  50]\n",
      " [153  86]]\n"
     ]
    },
    {
     "data": {
      "text/plain": [
       "0.818100358422939"
      ]
     },
     "execution_count": 13,
     "metadata": {},
     "output_type": "execute_result"
    }
   ],
   "source": [
    "from sklearn.metrics import confusion_matrix, accuracy_score\n",
    "cm = confusion_matrix(y_test, y_pred)\n",
    "print(cm)\n",
    "accuracy_score(y_test, y_pred)"
   ]
  },
  {
   "cell_type": "code",
   "execution_count": 17,
   "metadata": {},
   "outputs": [
    {
     "name": "stdout",
     "output_type": "stream",
     "text": [
      "35/35 [==============================] - 0s 755us/step\n"
     ]
    },
    {
     "data": {
      "image/png": "[encoded data removed]",
      "text/plain": [
       "<Figure size 1200x600 with 1 Axes>"
      ]
     },
     "metadata": {},
     "output_type": "display_data"
    }
   ],
   "source": [
    "y_pred_proba = ann.predict(X_test)\n",
    "positive_class_probabilities = y_pred_proba.flatten()\n",
    "X_test = sc.inverse_transform(X_test)\n",
    "age_groups = np.unique(X_test[:, 1])\n",
    "age_percentages = []\n",
    "for age_group in age_groups:\n",
    "    age_group_indices = (X_test[:, 1] == age_group)\n",
    "    average_probability = np.mean(positive_class_probabilities[age_group_indices])\n",
    "    age_percentages.append((age_group, average_probability * 100))\n",
    "\n",
    "age_groups, probabilities = zip(*age_percentages)\n",
    "plt.figure(figsize=(12, 6))\n",
    "plt.bar(age_groups, probabilities, color='blue')\n",
    "plt.title('Probability of Individuals Predicted to Get Injured by Age Group')\n",
    "plt.xlabel('Age Group')\n",
    "plt.ylabel('Probability')\n",
    "plt.show()\n"
   ]
  }
 ],
 "metadata": {
  "kernelspec": {
   "display_name": "Python 3",
   "language": "python",
   "name": "python3"
  },
  "language_info": {
   "codemirror_mode": {
    "name": "ipython",
    "version": 3
   },
   "file_extension": ".py",
   "mimetype": "text/x-python",
   "name": "python",
   "nbconvert_exporter": "python",
   "pygments_lexer": "ipython3",
   "version": "3.11.5"
  }
 },
 "nbformat": 4,
 "nbformat_minor": 2
}
